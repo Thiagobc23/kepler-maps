{
 "cells": [
  {
   "cell_type": "code",
   "execution_count": 35,
   "metadata": {},
   "outputs": [],
   "source": [
    "import pandas as pd\n",
    "import keplergl"
   ]
  },
  {
   "cell_type": "code",
   "execution_count": 36,
   "metadata": {},
   "outputs": [
    {
     "name": "stdout",
     "output_type": "stream",
     "text": [
      "User Guide: https://docs.kepler.gl/docs/keplergl-jupyter\n"
     ]
    },
    {
     "data": {
      "application/vnd.jupyter.widget-view+json": {
       "model_id": "8aee14786a484348bef20eb14a9e5916",
       "version_major": 2,
       "version_minor": 0
      },
      "text/plain": [
       "KeplerGl(height=600)"
      ]
     },
     "metadata": {},
     "output_type": "display_data"
    }
   ],
   "source": [
    "# Define map\n",
    "kepler_map = keplergl.KeplerGl(height=600)\n",
    "kepler_map"
   ]
  },
  {
   "cell_type": "code",
   "execution_count": 40,
   "metadata": {},
   "outputs": [],
   "source": [
    "# read csv\n",
    "df = pd.read_csv('data/Worldwide-Earthquake-database.csv')\n",
    "\n",
    "# lat and lon to numeric, errors converted to nan\n",
    "df['LONGITUDE'] = pd.to_numeric(df.LONGITUDE, errors='coerce')\n",
    "df['LATITUDE'] = pd.to_numeric(df.LATITUDE, errors='coerce')\n",
    "\n",
    "# drop rows with missing lat, lon, and intensity\n",
    "df.dropna(subset=['LONGITUDE', 'LATITUDE', 'INTENSITY'], inplace=True)\n",
    "\n",
    "# convert tsunami flag from string to int\n",
    "df['FLAG_TSUNAMI'] = [1 if i=='Yes' else 0 for i in df.FLAG_TSUNAMI.values]"
   ]
  },
  {
   "cell_type": "code",
   "execution_count": 41,
   "metadata": {},
   "outputs": [],
   "source": [
    "# add data to map - this will update the map widget\n",
    "kepler_map.add_data(data=df, name=\"earthquakes\")"
   ]
  },
  {
   "cell_type": "code",
   "execution_count": 50,
   "metadata": {},
   "outputs": [
    {
     "data": {
      "text/plain": [
       "{'version': 'v1',\n",
       " 'config': {'visState': {'filters': [],\n",
       "   'layers': [{'id': 'yipp58',\n",
       "     'type': 'point',\n",
       "     'config': {'dataId': 'earthquakes',\n",
       "      'label': 'Point',\n",
       "      'color': [23, 184, 190],\n",
       "      'columns': {'lat': 'LATITUDE', 'lng': 'LONGITUDE', 'altitude': None},\n",
       "      'isVisible': True,\n",
       "      'visConfig': {'radius': 10,\n",
       "       'fixedRadius': False,\n",
       "       'opacity': 0.8,\n",
       "       'outline': False,\n",
       "       'thickness': 2,\n",
       "       'strokeColor': None,\n",
       "       'colorRange': {'name': 'Uber Viz Diverging 0',\n",
       "        'type': 'diverging',\n",
       "        'category': 'Uber',\n",
       "        'colors': ['#C22E00', '#FEEEE8', '#00939C'],\n",
       "        'reversed': True},\n",
       "       'strokeColorRange': {'name': 'Global Warming',\n",
       "        'type': 'sequential',\n",
       "        'category': 'Uber',\n",
       "        'colors': ['#5A1846',\n",
       "         '#900C3F',\n",
       "         '#C70039',\n",
       "         '#E3611C',\n",
       "         '#F1920E',\n",
       "         '#FFC300']},\n",
       "       'radiusRange': [2, 12],\n",
       "       'filled': True},\n",
       "      'hidden': False,\n",
       "      'textLabel': [{'field': None,\n",
       "        'color': [255, 255, 255],\n",
       "        'size': 18,\n",
       "        'offset': [0, 0],\n",
       "        'anchor': 'start',\n",
       "        'alignment': 'center'}]},\n",
       "     'visualChannels': {'colorField': {'name': 'FLAG_TSUNAMI',\n",
       "       'type': 'integer'},\n",
       "      'colorScale': 'quantize',\n",
       "      'strokeColorField': None,\n",
       "      'strokeColorScale': 'quantile',\n",
       "      'sizeField': {'name': 'INTENSITY', 'type': 'integer'},\n",
       "      'sizeScale': 'sqrt'}}],\n",
       "   'interactionConfig': {'tooltip': {'fieldsToShow': {'earthquakes': ['FLAG_TSUNAMI',\n",
       "       'YEAR',\n",
       "       'INTENSITY',\n",
       "       'COUNTRY',\n",
       "       'LOCATION_NAME',\n",
       "       'DEATHS',\n",
       "       'DAMAGE_MILLIONS_DOLLARS',\n",
       "       'HOUSES_DESTROYED']},\n",
       "     'enabled': True},\n",
       "    'brush': {'size': 0.5, 'enabled': False},\n",
       "    'geocoder': {'enabled': False},\n",
       "    'coordinate': {'enabled': False}},\n",
       "   'layerBlending': 'normal',\n",
       "   'splitMaps': [],\n",
       "   'animationConfig': {'currentTime': None, 'speed': 1}},\n",
       "  'mapState': {'bearing': 0,\n",
       "   'dragRotate': False,\n",
       "   'latitude': 12.777626695111646,\n",
       "   'longitude': 60.27729947850895,\n",
       "   'pitch': 0,\n",
       "   'zoom': 1.4752958641930825,\n",
       "   'isSplit': False},\n",
       "  'mapStyle': {'styleType': 'muted_night',\n",
       "   'topLayerGroups': {},\n",
       "   'visibleLayerGroups': {'label': True,\n",
       "    'road': False,\n",
       "    'border': False,\n",
       "    'building': False,\n",
       "    'water': True,\n",
       "    'land': True,\n",
       "    '3d building': False},\n",
       "   'threeDBuildingColor': [26.848523094644484,\n",
       "    31.1442867897876,\n",
       "    35.440050484930715],\n",
       "   'mapStyles': {}}}}"
      ]
     },
     "execution_count": 50,
     "metadata": {},
     "output_type": "execute_result"
    }
   ],
   "source": [
    "# save .config\n",
    "config = kepler_map.config\n",
    "config"
   ]
  },
  {
   "cell_type": "code",
   "execution_count": 48,
   "metadata": {},
   "outputs": [],
   "source": [
    "#%run myconfig.py"
   ]
  },
  {
   "cell_type": "code",
   "execution_count": 49,
   "metadata": {},
   "outputs": [],
   "source": [
    "#config"
   ]
  },
  {
   "cell_type": "code",
   "execution_count": 51,
   "metadata": {},
   "outputs": [
    {
     "name": "stdout",
     "output_type": "stream",
     "text": [
      "Map saved to earthquake.html!\n"
     ]
    }
   ],
   "source": [
    "# export to html\n",
    "kepler_map.save_to_html(file_name='earthquake.html', \n",
    "                        data={\"earthquakes\": df}, config=config)"
   ]
  }
 ],
 "metadata": {
  "kernelspec": {
   "display_name": "Python 3",
   "language": "python",
   "name": "python3"
  },
  "language_info": {
   "codemirror_mode": {
    "name": "ipython",
    "version": 3
   },
   "file_extension": ".py",
   "mimetype": "text/x-python",
   "name": "python",
   "nbconvert_exporter": "python",
   "pygments_lexer": "ipython3",
   "version": "3.7.7"
  }
 },
 "nbformat": 4,
 "nbformat_minor": 4
}
