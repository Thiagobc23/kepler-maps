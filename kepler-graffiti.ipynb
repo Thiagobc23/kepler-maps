{
 "cells": [
  {
   "cell_type": "code",
   "execution_count": 1,
   "metadata": {},
   "outputs": [],
   "source": [
    "import geopandas as gpd\n",
    "import keplergl\n",
    "\n",
    "# https://opendata.vancouver.ca/explore/dataset/block-outlines/information/\n",
    "block = gpd.read_file('data/block-outlines.geojson')\n",
    "block.dropna(inplace=True)\n",
    "# https://opendata.vancouver.ca/explore/dataset/graffiti/information/\n",
    "graffiti = gpd.read_file('data/graffiti.geojson')\n",
    "graffiti.dropna(inplace=True)"
   ]
  },
  {
   "cell_type": "code",
   "execution_count": 2,
   "metadata": {},
   "outputs": [
    {
     "data": {
      "text/html": [
       "<div>\n",
       "<style scoped>\n",
       "    .dataframe tbody tr th:only-of-type {\n",
       "        vertical-align: middle;\n",
       "    }\n",
       "\n",
       "    .dataframe tbody tr th {\n",
       "        vertical-align: top;\n",
       "    }\n",
       "\n",
       "    .dataframe thead th {\n",
       "        text-align: right;\n",
       "    }\n",
       "</style>\n",
       "<table border=\"1\" class=\"dataframe\">\n",
       "  <thead>\n",
       "    <tr style=\"text-align: right;\">\n",
       "      <th></th>\n",
       "      <th>index</th>\n",
       "      <th>geometry</th>\n",
       "      <th>index_right</th>\n",
       "      <th>count</th>\n",
       "      <th>geo_local_area</th>\n",
       "    </tr>\n",
       "  </thead>\n",
       "  <tbody>\n",
       "    <tr>\n",
       "      <th>0</th>\n",
       "      <td>1</td>\n",
       "      <td>POLYGON ((-123.10148 49.25362, -123.10162 49.2...</td>\n",
       "      <td>1803</td>\n",
       "      <td>1</td>\n",
       "      <td>Riley Park</td>\n",
       "    </tr>\n",
       "    <tr>\n",
       "      <th>1</th>\n",
       "      <td>1</td>\n",
       "      <td>POLYGON ((-123.10148 49.25362, -123.10162 49.2...</td>\n",
       "      <td>1610</td>\n",
       "      <td>1</td>\n",
       "      <td>Riley Park</td>\n",
       "    </tr>\n",
       "    <tr>\n",
       "      <th>2</th>\n",
       "      <td>1</td>\n",
       "      <td>POLYGON ((-123.10148 49.25362, -123.10162 49.2...</td>\n",
       "      <td>7272</td>\n",
       "      <td>2</td>\n",
       "      <td>Riley Park</td>\n",
       "    </tr>\n",
       "    <tr>\n",
       "      <th>3</th>\n",
       "      <td>1</td>\n",
       "      <td>POLYGON ((-123.10148 49.25362, -123.10162 49.2...</td>\n",
       "      <td>1751</td>\n",
       "      <td>1</td>\n",
       "      <td>Riley Park</td>\n",
       "    </tr>\n",
       "    <tr>\n",
       "      <th>4</th>\n",
       "      <td>1</td>\n",
       "      <td>POLYGON ((-123.10148 49.25362, -123.10162 49.2...</td>\n",
       "      <td>3650</td>\n",
       "      <td>1</td>\n",
       "      <td>Riley Park</td>\n",
       "    </tr>\n",
       "  </tbody>\n",
       "</table>\n",
       "</div>"
      ],
      "text/plain": [
       "   index                                           geometry  index_right  \\\n",
       "0      1  POLYGON ((-123.10148 49.25362, -123.10162 49.2...         1803   \n",
       "1      1  POLYGON ((-123.10148 49.25362, -123.10162 49.2...         1610   \n",
       "2      1  POLYGON ((-123.10148 49.25362, -123.10162 49.2...         7272   \n",
       "3      1  POLYGON ((-123.10148 49.25362, -123.10162 49.2...         1751   \n",
       "4      1  POLYGON ((-123.10148 49.25362, -123.10162 49.2...         3650   \n",
       "\n",
       "   count geo_local_area  \n",
       "0      1     Riley Park  \n",
       "1      1     Riley Park  \n",
       "2      2     Riley Park  \n",
       "3      1     Riley Park  \n",
       "4      1     Riley Park  "
      ]
     },
     "execution_count": 2,
     "metadata": {},
     "output_type": "execute_result"
    }
   ],
   "source": [
    "# join datasets - this will repeat the polygon for each point, and add the graffiti count to the blocks dataframe\n",
    "graf_block = gpd.sjoin(block, graffiti, how='inner', op='contains')\n",
    "# create new indexes\n",
    "graf_block.reset_index(inplace=True)\n",
    "graf_block.head()"
   ]
  },
  {
   "cell_type": "code",
   "execution_count": 3,
   "metadata": {},
   "outputs": [],
   "source": [
    "# disolve old indexes - this will group the old indexes and sum the graffiti count\n",
    "graf_block = graf_block.dissolve(by='index', aggfunc='sum')"
   ]
  },
  {
   "cell_type": "code",
   "execution_count": 5,
   "metadata": {},
   "outputs": [],
   "source": [
    "# get config - *If you want a new map, comment out this block and remove the config parameter of the next blocks\n",
    "%run graffiti-config.py"
   ]
  },
  {
   "cell_type": "code",
   "execution_count": 6,
   "metadata": {},
   "outputs": [
    {
     "name": "stdout",
     "output_type": "stream",
     "text": [
      "User Guide: https://docs.kepler.gl/docs/keplergl-jupyter\n"
     ]
    },
    {
     "data": {
      "application/vnd.jupyter.widget-view+json": {
       "model_id": "6cda822f11e44c6d86b3e4ddc72e4c2d",
       "version_major": 2,
       "version_minor": 0
      },
      "text/plain": [
       "KeplerGl(config={'version': 'v1', 'config': {'visState': {'filters': [], 'layers': [{'id': 'ue3wn9', 'type': '…"
      ]
     },
     "metadata": {},
     "output_type": "display_data"
    }
   ],
   "source": [
    "# define kepler map\n",
    "graffiti_map = keplergl.KeplerGl(height=500, data={\"graffiti\": graf_block, \"block\": block}, config=config)\n",
    "graffiti_map"
   ]
  },
  {
   "cell_type": "code",
   "execution_count": 7,
   "metadata": {},
   "outputs": [
    {
     "name": "stdout",
     "output_type": "stream",
     "text": [
      "Map saved to graffiti.html!\n"
     ]
    }
   ],
   "source": [
    "# export to html\n",
    "graffiti_map.save_to_html(file_name='graffiti.html', data={\"graffiti\": graf_block, \"block\":block}, config=config)"
   ]
  },
  {
   "cell_type": "code",
   "execution_count": null,
   "metadata": {},
   "outputs": [],
   "source": []
  }
 ],
 "metadata": {
  "kernelspec": {
   "display_name": "Python 3",
   "language": "python",
   "name": "python3"
  },
  "language_info": {
   "codemirror_mode": {
    "name": "ipython",
    "version": 3
   },
   "file_extension": ".py",
   "mimetype": "text/x-python",
   "name": "python",
   "nbconvert_exporter": "python",
   "pygments_lexer": "ipython3",
   "version": "3.7.7"
  }
 },
 "nbformat": 4,
 "nbformat_minor": 4
}
